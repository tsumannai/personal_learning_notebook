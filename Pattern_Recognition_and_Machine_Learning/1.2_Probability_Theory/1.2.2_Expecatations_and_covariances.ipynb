{
 "cells": [
  {
   "cell_type": "markdown",
   "id": "259115b2-69bb-49e1-bbd0-50d5872af724",
   "metadata": {},
   "source": [
    "## Expecations and Covariances"
   ]
  },
  {
   "cell_type": "markdown",
   "id": "489a8e99-bfdc-477a-9c21-2bebb167ba4f",
   "metadata": {},
   "source": [
    "The average value of some function $f(x)$ under probability distribution $p(x)$ is called the *expecation* of $f(x)."
   ]
  },
  {
   "cell_type": "markdown",
   "id": "dd4c0eda-2725-4b47-9630-71826b22c858",
   "metadata": {},
   "source": [
    "For a discrete distribution Expectation $E[f]$:"
   ]
  },
  {
   "cell_type": "markdown",
   "id": "7e903382-c498-4eac-b7c7-987b78ad77f3",
   "metadata": {},
   "source": [
    "$$E[f] = \\sum_{x}p(x)f(x)$$"
   ]
  },
  {
   "cell_type": "markdown",
   "id": "d3e43e9a-fc1a-4081-8fe1-7f40317eed35",
   "metadata": {},
   "source": [
    "For continuous variables, integration is used:"
   ]
  },
  {
   "cell_type": "markdown",
   "id": "afd26f83-7c9c-4c07-b7ea-d0293701ba01",
   "metadata": {},
   "source": [
    "$$E[f] = \\int{}p(x)f(x)dx$$"
   ]
  },
  {
   "cell_type": "markdown",
   "id": "b0b94a7b-3b27-4e54-aa00-7958917f6820",
   "metadata": {},
   "source": [
    "If we pick N number of points from a discrete distribution then:"
   ]
  },
  {
   "cell_type": "markdown",
   "id": "1b3c3069-3816-4a03-a7f7-e5734cd68b25",
   "metadata": {},
   "source": [
    "$$E[f] \\simeq \\frac{1}{N}\\sum_{n=1}^Nf(x_n)$$"
   ]
  },
  {
   "cell_type": "markdown",
   "id": "ce6a0b22-041f-465e-8142-bd6c2ad6d3de",
   "metadata": {},
   "source": [
    "This approximation becomes exactly when $N\\rightarrow\\infty$."
   ]
  },
  {
   "cell_type": "markdown",
   "id": "67dec095-efe3-4700-8b48-9f53ceb16d60",
   "metadata": {},
   "source": [
    "Expectations of functions of several variables can be indicated by:\n",
    "\n",
    "The subscript $x$ indicates which variable is averaged over.\n",
    "\n",
    "$$E_x[f(x,y)]$$"
   ]
  },
  {
   "cell_type": "markdown",
   "id": "b971c8e8-342f-4a6a-a892-6d8f0faf2221",
   "metadata": {},
   "source": [
    "For conditional distributions, there is *conditional expectation*\n",
    "\n",
    "$$Ex[f|y] = \\sum_xp(x|y)f(x)$$"
   ]
  },
  {
   "cell_type": "markdown",
   "id": "1d6fc6d3-0351-4738-a12d-c13bcc1beecd",
   "metadata": {},
   "source": []
  }
 ],
 "metadata": {
  "kernelspec": {
   "display_name": "Python 3 (ipykernel)",
   "language": "python",
   "name": "python3"
  },
  "language_info": {
   "codemirror_mode": {
    "name": "ipython",
    "version": 3
   },
   "file_extension": ".py",
   "mimetype": "text/x-python",
   "name": "python",
   "nbconvert_exporter": "python",
   "pygments_lexer": "ipython3",
   "version": "3.9.16"
  }
 },
 "nbformat": 4,
 "nbformat_minor": 5
}
