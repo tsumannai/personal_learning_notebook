{
 "cells": [
  {
   "cell_type": "markdown",
   "id": "2434fc49-cd57-4062-abf0-64a58e764771",
   "metadata": {},
   "source": [
    "## Bayesian Probabilities "
   ]
  },
  {
   "cell_type": "markdown",
   "id": "d39a5229-ada2-4467-aa13-f75724467b35",
   "metadata": {},
   "source": [
    "$$p(w|D) = \\frac{(p(D|w)p(w)}{p(D)}$$\n",
    "\n",
    "Bayes' theorem is used to update the probability for a hypothesis as more evidence or information becomes available. It contrasts with frequentist statistics, the other major framework for statistical inference.\n",
    "\n",
    "**Prior**, $p(w)$ This is your belief about $w$ before seeing any data. This could be based on previous studies, domain knowledge, or it could be a non-informative prior if you have no idea.\n",
    "\n",
    "**Likelihood**, $p(D|w)$ Given a particular value or distribution of $w$, this describes how likely the observed data,$D$, is.\n",
    "\n",
    "**Prosterior**, $p(w|D)$ After seeing the data, this is your updated belief about $w$. This is what Bayesian inference seeks to compute.\n",
    "\n",
    "**Evidence or Marginal Likelihood**. $p(D)$ This is the probability of observing the data under all possible values of $w$. It acts as a normalization constant to ensure the posterior probabilities sum (or integrate) to 1.\n",
    "\n",
    "$$posterior \\propto likelihood * prior$$\n",
    "\n",
    "$$p(D) = \\int{p(D|w)p(w)dw}$$\n",
    "The equation means that to get the overall likelihood of the data, $D$, you integrate (sum over all possible values) the product of the likelihood and the prior."
   ]
  },
  {
   "cell_type": "markdown",
   "id": "804752c9-4bf8-4227-8402-a48abd211409",
   "metadata": {},
   "source": [
    "One advantage of the Bayesian viewpoint is that the inclusion of prior knowledge arises naturally. Suppose, for instance, that a fair-looking coin is tossed three\n",
    "times and lands heads each time. A classical maximum likelihood estimate of the probability of landing heads would give 1, implying that all future tosses will land\n",
    "heads! By contrast, a Bayesian approach with any reasonable prior will lead to a\n",
    "much less extreme conclusion."
   ]
  },
  {
   "cell_type": "markdown",
   "id": "bed86c87-5c4e-45c1-9885-28dba3bd75ac",
   "metadata": {},
   "source": [
    "Bayesian methods based on poor choices of prior can give poor results with high\n",
    "confidence. Frequentist evaluation methods offer some protection from such problems, and techniques such as cross-validation remain useful in areas such as model\n",
    "comparison."
   ]
  },
  {
   "cell_type": "markdown",
   "id": "f2655a4c-dbb8-4067-8c4e-53a691ad450a",
   "metadata": {},
   "source": [
    "### Example\n",
    "\n",
    "You have a bag of 100 coins. You suspect that some of these coins might be biased to give more heads than a fair coin would. You randomly pick one coin from the bag and want to determine the probability $p(w)$ that this coin is biased based on some flips."
   ]
  },
  {
   "cell_type": "markdown",
   "id": "8afaa91e-cc2f-40cb-a3c0-769481ea917b",
   "metadata": {},
   "source": [
    "Let's assume 5% of coins picked at random is biased.\n",
    "\n",
    "So let's have $p(w)$ as 0.05."
   ]
  },
  {
   "cell_type": "markdown",
   "id": "da7d87b8-5d1a-4bbf-b614-24234abeeb0f",
   "metadata": {},
   "source": [
    "$p(D|)$ the probability of observing data **given** the coin is biased. \n",
    "\n",
    "We flip a coin 10 times and get 9 heads. By assuming a biased coin gives heads 90% of the time.  The likelyhood of observing this could be 0.39."
   ]
  },
  {
   "cell_type": "code",
   "execution_count": 2,
   "id": "871e38f8-0979-4fff-ab74-6658c0441f00",
   "metadata": {},
   "outputs": [
    {
     "data": {
      "text/plain": [
       "0.387420489"
      ]
     },
     "execution_count": 2,
     "metadata": {},
     "output_type": "execute_result"
    }
   ],
   "source": [
    "from scipy.stats import binom\n",
    "# Biased coin probability from 10 flips and 9 heads.\n",
    "n = 10\n",
    "k = 9 \n",
    "p = 0.9 \n",
    "binom.pmf(k, n, p)"
   ]
  },
  {
   "cell_type": "code",
   "execution_count": 4,
   "id": "713a5166-76ee-4781-aec7-fcee321fccff",
   "metadata": {},
   "outputs": [
    {
     "data": {
      "text/plain": [
       "0.009765625000000009"
      ]
     },
     "execution_count": 4,
     "metadata": {},
     "output_type": "execute_result"
    }
   ],
   "source": [
    "# Fair coin probability from 10 flips and 9 heads.\n",
    "n = 10\n",
    "k = 9 \n",
    "p = 0.5\n",
    "binom.pmf(k, n, p)"
   ]
  },
  {
   "cell_type": "markdown",
   "id": "de9b9fb9-2c1e-487d-9e47-8fe710c90813",
   "metadata": {},
   "source": [
    "The term $p(D)$ represents the probability of the observed data (in our case, 9 heads in 10 flips) given all possible scenarios or states of the world. (Biased and fair)"
   ]
  },
  {
   "cell_type": "markdown",
   "id": "fd215545-8221-4eb8-b1ba-55bef358fc00",
   "metadata": {},
   "source": [
    "To compute $p(D)$, we calculate the likelihood of observing our data under each scenario and then average these, weighted by our prior beliefs about each scenario."
   ]
  },
  {
   "cell_type": "markdown",
   "id": "813cbc2b-7282-42b5-a74e-388a555276bd",
   "metadata": {},
   "source": [
    "$$p(D) = p(D|biased) * p(biased) + p(D|not biased) * p(not biased)$$\n",
    "\n",
    "$$p(D) = 0.39*0.05 + 0.01*0.95  = 0.029$$\n",
    "\n",
    "In the context of our example,$p(D)$ tells us how probable it is to get 9 heads in 10 flips, considering both the possibility that the coin might be biased and the possibility that the coin might be fair."
   ]
  },
  {
   "cell_type": "code",
   "execution_count": 6,
   "id": "33ca7703-d8b2-42d6-b7ff-2db43192021e",
   "metadata": {},
   "outputs": [
    {
     "data": {
      "text/plain": [
       "0.029000000000000005"
      ]
     },
     "execution_count": 6,
     "metadata": {},
     "output_type": "execute_result"
    }
   ],
   "source": [
    "(0.39*0.05) + (0.01*0.95)"
   ]
  },
  {
   "cell_type": "markdown",
   "id": "df69e968-a1e1-4a87-b225-30c98901c577",
   "metadata": {},
   "source": [
    "$$p(w|D) = \\frac{0.39*0.05}{0.029} = 0.67$$"
   ]
  },
  {
   "cell_type": "markdown",
   "id": "5d9009fb-f932-48f3-a569-d30ca717707a",
   "metadata": {},
   "source": [
    "Given the evidence (9 heads in 10 flips), the updated probability that this coin is biased is around 67%. This is your posterior belief, updated from the 5% prior belief after observing the data.\n",
    "\n"
   ]
  },
  {
   "cell_type": "code",
   "execution_count": null,
   "id": "0d16c83b-e48d-4158-8601-57f25755c2a7",
   "metadata": {},
   "outputs": [],
   "source": []
  },
  {
   "cell_type": "code",
   "execution_count": null,
   "id": "fda0e4d4-3197-4510-b02a-c6b9b785234a",
   "metadata": {},
   "outputs": [],
   "source": []
  }
 ],
 "metadata": {
  "kernelspec": {
   "display_name": "Python 3 (ipykernel)",
   "language": "python",
   "name": "python3"
  },
  "language_info": {
   "codemirror_mode": {
    "name": "ipython",
    "version": 3
   },
   "file_extension": ".py",
   "mimetype": "text/x-python",
   "name": "python",
   "nbconvert_exporter": "python",
   "pygments_lexer": "ipython3",
   "version": "3.11.4"
  }
 },
 "nbformat": 4,
 "nbformat_minor": 5
}
